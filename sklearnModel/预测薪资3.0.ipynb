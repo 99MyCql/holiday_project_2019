{
 "cells": [
  {
   "cell_type": "markdown",
   "metadata": {},
   "source": [
    "# 数据处理"
   ]
  },
  {
   "cell_type": "markdown",
   "metadata": {},
   "source": [
    "导入相关库"
   ]
  },
  {
   "cell_type": "code",
   "execution_count": 1087,
   "metadata": {},
   "outputs": [],
   "source": [
    "import numpy as np\n",
    "import pandas as pd\n",
    "from pandas import Series,DataFrame\n",
    "import matplotlib.pyplot as plt\n",
    "import seaborn as sns\n",
    "%matplotlib inline\n",
    "plt.rcParams['font.sans-serif']=['SimHei'] #用来正常显示中文标签\n",
    "plt.rcParams['axes.unicode_minus']=False #用来正常显示负号"
   ]
  },
  {
   "cell_type": "markdown",
   "metadata": {},
   "source": [
    "数据加载和清洗"
   ]
  },
  {
   "cell_type": "code",
   "execution_count": 1088,
   "metadata": {},
   "outputs": [
    {
     "name": "stdout",
     "output_type": "stream",
     "text": [
      "<class 'pandas.core.frame.DataFrame'>\n",
      "RangeIndex: 32214 entries, 0 to 32213\n",
      "Data columns (total 8 columns):\n",
      "职位名称       32214 non-null object\n",
      "职位名称关键字    32214 non-null object\n",
      "职位薪资       31704 non-null float64\n",
      "公司名称       32214 non-null object\n",
      "地区         32214 non-null object\n",
      "工作经验       32080 non-null object\n",
      "学历要求       28410 non-null object\n",
      "职位描述要求     26668 non-null object\n",
      "dtypes: float64(1), object(7)\n",
      "memory usage: 2.0+ MB\n"
     ]
    }
   ],
   "source": [
    "jobs = pd.read_csv('jobs.csv',engine='c')\n",
    "jobs.info()"
   ]
  },
  {
   "cell_type": "code",
   "execution_count": 1089,
   "metadata": {},
   "outputs": [
    {
     "name": "stdout",
     "output_type": "stream",
     "text": [
      "<class 'pandas.core.frame.DataFrame'>\n",
      "RangeIndex: 948 entries, 0 to 947\n",
      "Data columns (total 16 columns):\n",
      "Unnamed: 0    948 non-null int64\n",
      "职位名称          948 non-null object\n",
      "职位名称关键字       948 non-null object\n",
      "职位薪资          913 non-null float64\n",
      "公司名称          948 non-null object\n",
      "地区            948 non-null object\n",
      "工作经验          946 non-null float64\n",
      "学历要求          948 non-null object\n",
      "职位描述要求        948 non-null object\n",
      "Python        948 non-null float64\n",
      "C             948 non-null float64\n",
      "Tensorflow    948 non-null float64\n",
      "Java          948 non-null float64\n",
      "Linux         948 non-null float64\n",
      "Spark         948 non-null float64\n",
      "Hadoop        948 non-null float64\n",
      "dtypes: float64(9), int64(1), object(6)\n",
      "memory usage: 118.6+ KB\n"
     ]
    }
   ],
   "source": [
    "AI = pd.read_csv('AI.csv')\n",
    "AI.info()\n",
    "AI=AI.drop(['Unnamed: 0'], axis=1)"
   ]
  },
  {
   "cell_type": "code",
   "execution_count": 1090,
   "metadata": {},
   "outputs": [
    {
     "name": "stdout",
     "output_type": "stream",
     "text": [
      "<class 'pandas.core.frame.DataFrame'>\n",
      "RangeIndex: 929 entries, 0 to 928\n",
      "Data columns (total 18 columns):\n",
      "Unnamed: 0    929 non-null int64\n",
      "职位名称          929 non-null object\n",
      "职位名称关键字       929 non-null object\n",
      "职位薪资          913 non-null float64\n",
      "公司名称          929 non-null object\n",
      "地区            929 non-null object\n",
      "工作经验          922 non-null float64\n",
      "学历要求          929 non-null object\n",
      "职位描述要求        929 non-null object\n",
      "Linux         929 non-null float64\n",
      "Python        929 non-null float64\n",
      "Java          929 non-null float64\n",
      "C             929 non-null float64\n",
      "Web           929 non-null float64\n",
      "Sql           929 non-null float64\n",
      "App           929 non-null float64\n",
      "Mysql         929 non-null float64\n",
      "Oracle        929 non-null float64\n",
      "dtypes: float64(11), int64(1), object(6)\n",
      "memory usage: 130.7+ KB\n"
     ]
    }
   ],
   "source": [
    "ceshi = pd.read_csv('ceshi.csv')\n",
    "ceshi.info()\n",
    "ceshi=ceshi.drop(['Unnamed: 0'], axis=1)"
   ]
  },
  {
   "cell_type": "code",
   "execution_count": 1091,
   "metadata": {},
   "outputs": [
    {
     "name": "stdout",
     "output_type": "stream",
     "text": [
      "<class 'pandas.core.frame.DataFrame'>\n",
      "RangeIndex: 949 entries, 0 to 948\n",
      "Data columns (total 15 columns):\n",
      "Unnamed: 0    949 non-null int64\n",
      "职位名称          949 non-null object\n",
      "职位名称关键字       949 non-null object\n",
      "职位薪资          940 non-null float64\n",
      "公司名称          949 non-null object\n",
      "地区            949 non-null object\n",
      "工作经验          948 non-null float64\n",
      "学历要求          949 non-null object\n",
      "职位描述要求        949 non-null object\n",
      "Pcb           949 non-null float64\n",
      "C             949 non-null float64\n",
      "Protel        949 non-null float64\n",
      "Ic            949 non-null float64\n",
      "Qc            949 non-null float64\n",
      "Arm           949 non-null float64\n",
      "dtypes: float64(8), int64(1), object(6)\n",
      "memory usage: 111.3+ KB\n"
     ]
    }
   ],
   "source": [
    "dianzi = pd.read_csv('dianzi.csv')\n",
    "dianzi.info()\n",
    "dianzi=dianzi.drop(['Unnamed: 0'], axis=1)"
   ]
  },
  {
   "cell_type": "code",
   "execution_count": 1092,
   "metadata": {},
   "outputs": [
    {
     "name": "stdout",
     "output_type": "stream",
     "text": [
      "<class 'pandas.core.frame.DataFrame'>\n",
      "RangeIndex: 950 entries, 0 to 949\n",
      "Data columns (total 19 columns):\n",
      "Unnamed: 0    950 non-null int64\n",
      "职位名称          950 non-null object\n",
      "职位名称关键字       950 non-null object\n",
      "职位薪资          934 non-null float64\n",
      "公司名称          950 non-null object\n",
      "地区            950 non-null object\n",
      "工作经验          943 non-null float64\n",
      "学历要求          950 non-null object\n",
      "职位描述要求        950 non-null object\n",
      "Java          950 non-null float64\n",
      "Mysql         950 non-null float64\n",
      "Web           950 non-null float64\n",
      "Linux         950 non-null float64\n",
      "Redis         950 non-null float64\n",
      "Spring        950 non-null float64\n",
      "Sql           950 non-null float64\n",
      "Javascript    950 non-null float64\n",
      "Python        950 non-null float64\n",
      "Php           950 non-null float64\n",
      "dtypes: float64(12), int64(1), object(6)\n",
      "memory usage: 141.1+ KB\n"
     ]
    }
   ],
   "source": [
    "houduan = pd.read_csv('houduan.csv')\n",
    "houduan.info()\n",
    "houduan=houduan.drop(['Unnamed: 0'], axis=1)"
   ]
  },
  {
   "cell_type": "code",
   "execution_count": 1093,
   "metadata": {},
   "outputs": [
    {
     "name": "stdout",
     "output_type": "stream",
     "text": [
      "<class 'pandas.core.frame.DataFrame'>\n",
      "RangeIndex: 944 entries, 0 to 943\n",
      "Data columns (total 15 columns):\n",
      "Unnamed: 0    944 non-null int64\n",
      "职位名称          944 non-null object\n",
      "职位名称关键字       944 non-null object\n",
      "职位薪资          941 non-null float64\n",
      "公司名称          944 non-null object\n",
      "地区            944 non-null object\n",
      "工作经验          939 non-null float64\n",
      "学历要求          944 non-null object\n",
      "职位描述要求        944 non-null object\n",
      "Web           944 non-null float64\n",
      "Css           944 non-null float64\n",
      "Html          944 non-null float64\n",
      "Javascript    944 non-null float64\n",
      "Js            944 non-null float64\n",
      "Jquery        944 non-null float64\n",
      "dtypes: float64(8), int64(1), object(6)\n",
      "memory usage: 110.7+ KB\n"
     ]
    }
   ],
   "source": [
    "qianduan = pd.read_csv('qianduan.csv')\n",
    "qianduan.info()\n",
    "qianduan=qianduan.drop(['Unnamed: 0'], axis=1)"
   ]
  },
  {
   "cell_type": "code",
   "execution_count": 1094,
   "metadata": {},
   "outputs": [
    {
     "name": "stdout",
     "output_type": "stream",
     "text": [
      "<class 'pandas.core.frame.DataFrame'>\n",
      "RangeIndex: 938 entries, 0 to 937\n",
      "Data columns (total 18 columns):\n",
      "Unnamed: 0    938 non-null int64\n",
      "职位名称          938 non-null object\n",
      "职位名称关键字       938 non-null object\n",
      "职位薪资          921 non-null float64\n",
      "公司名称          938 non-null object\n",
      "地区            938 non-null object\n",
      "工作经验          929 non-null float64\n",
      "学历要求          938 non-null object\n",
      "职位描述要求        938 non-null object\n",
      "Excel         938 non-null float64\n",
      "Sql           938 non-null float64\n",
      "Python        938 non-null float64\n",
      "Mysql         938 non-null float64\n",
      "Oracle        938 non-null float64\n",
      "Java          938 non-null float64\n",
      "Hadoop        938 non-null float64\n",
      "Linux         938 non-null float64\n",
      "Spark         938 non-null float64\n",
      "dtypes: float64(11), int64(1), object(6)\n",
      "memory usage: 132.0+ KB\n"
     ]
    }
   ],
   "source": [
    "shuju = pd.read_csv('shuju.csv')\n",
    "shuju.info()\n",
    "shuju=shuju.drop(['Unnamed: 0'], axis=1)"
   ]
  },
  {
   "cell_type": "code",
   "execution_count": 1095,
   "metadata": {},
   "outputs": [
    {
     "name": "stdout",
     "output_type": "stream",
     "text": [
      "<class 'pandas.core.frame.DataFrame'>\n",
      "RangeIndex: 929 entries, 0 to 928\n",
      "Data columns (total 17 columns):\n",
      "职位名称       929 non-null object\n",
      "职位名称关键字    929 non-null object\n",
      "职位薪资       913 non-null float64\n",
      "公司名称       929 non-null object\n",
      "地区         929 non-null object\n",
      "工作经验       922 non-null float64\n",
      "学历要求       929 non-null object\n",
      "职位描述要求     929 non-null object\n",
      "Linux      929 non-null float64\n",
      "Python     929 non-null float64\n",
      "Java       929 non-null float64\n",
      "C          929 non-null float64\n",
      "Web        929 non-null float64\n",
      "Sql        929 non-null float64\n",
      "App        929 non-null float64\n",
      "Mysql      929 non-null float64\n",
      "Oracle     929 non-null float64\n",
      "dtypes: float64(11), object(6)\n",
      "memory usage: 123.5+ KB\n"
     ]
    }
   ],
   "source": [
    "suanfa = pd.read_csv('suanfa.csv')\n",
    "ceshi.info()\n",
    "suanfa=suanfa.drop(['Unnamed: 0'], axis=1)"
   ]
  },
  {
   "cell_type": "code",
   "execution_count": 1096,
   "metadata": {},
   "outputs": [
    {
     "name": "stdout",
     "output_type": "stream",
     "text": [
      "<class 'pandas.core.frame.DataFrame'>\n",
      "RangeIndex: 950 entries, 0 to 949\n",
      "Data columns (total 15 columns):\n",
      "Unnamed: 0    950 non-null int64\n",
      "职位名称          950 non-null object\n",
      "职位名称关键字       950 non-null object\n",
      "职位薪资          935 non-null float64\n",
      "公司名称          950 non-null object\n",
      "地区            950 non-null object\n",
      "工作经验          948 non-null float64\n",
      "学历要求          950 non-null object\n",
      "职位描述要求        950 non-null object\n",
      "C             950 non-null float64\n",
      "Linux         950 non-null float64\n",
      "Ip            950 non-null float64\n",
      "Excel         950 non-null float64\n",
      "Cad           950 non-null float64\n",
      "Tcp           950 non-null float64\n",
      "dtypes: float64(8), int64(1), object(6)\n",
      "memory usage: 111.4+ KB\n"
     ]
    }
   ],
   "source": [
    "tongxin = pd.read_csv('tongxin.csv')\n",
    "tongxin.info()\n",
    "tongxin=tongxin.drop(['Unnamed: 0'], axis=1)"
   ]
  },
  {
   "cell_type": "code",
   "execution_count": 1097,
   "metadata": {},
   "outputs": [
    {
     "name": "stdout",
     "output_type": "stream",
     "text": [
      "<class 'pandas.core.frame.DataFrame'>\n",
      "RangeIndex: 913 entries, 0 to 912\n",
      "Data columns (total 14 columns):\n",
      "Unnamed: 0    913 non-null int64\n",
      "职位名称          913 non-null object\n",
      "职位名称关键字       913 non-null object\n",
      "职位薪资          879 non-null float64\n",
      "公司名称          913 non-null object\n",
      "地区            913 non-null object\n",
      "工作经验          906 non-null float64\n",
      "学历要求          913 non-null object\n",
      "职位描述要求        913 non-null object\n",
      "Excel         913 non-null float64\n",
      "Cad           913 non-null float64\n",
      "Pmp           913 non-null float64\n",
      "Word          913 non-null float64\n",
      "Ppt           913 non-null float64\n",
      "dtypes: float64(7), int64(1), object(6)\n",
      "memory usage: 99.9+ KB\n"
     ]
    }
   ],
   "source": [
    "xiangmu = pd.read_csv('xiangmu.csv')\n",
    "xiangmu.info()\n",
    "xiangmu=xiangmu.drop(['Unnamed: 0'], axis=1)"
   ]
  },
  {
   "cell_type": "code",
   "execution_count": 1098,
   "metadata": {},
   "outputs": [
    {
     "name": "stdout",
     "output_type": "stream",
     "text": [
      "<class 'pandas.core.frame.DataFrame'>\n",
      "RangeIndex: 919 entries, 0 to 918\n",
      "Data columns (total 17 columns):\n",
      "Unnamed: 0    919 non-null int64\n",
      "职位名称          919 non-null object\n",
      "职位名称关键字       919 non-null object\n",
      "职位薪资          904 non-null float64\n",
      "公司名称          919 non-null object\n",
      "地区            919 non-null object\n",
      "工作经验          917 non-null float64\n",
      "学历要求          919 non-null object\n",
      "职位描述要求        919 non-null object\n",
      "Android       919 non-null float64\n",
      "App           919 non-null float64\n",
      "Web           919 non-null float64\n",
      "Css           919 non-null float64\n",
      "Java          919 non-null float64\n",
      "Javascript    919 non-null float64\n",
      "C             919 non-null float64\n",
      "Js            919 non-null float64\n",
      "dtypes: float64(10), int64(1), object(6)\n",
      "memory usage: 122.1+ KB\n"
     ]
    }
   ],
   "source": [
    "yidong = pd.read_csv('yidong.csv')\n",
    "yidong.info()\n",
    "yidong=yidong.drop(['Unnamed: 0'], axis=1)"
   ]
  },
  {
   "cell_type": "code",
   "execution_count": 1099,
   "metadata": {},
   "outputs": [
    {
     "name": "stdout",
     "output_type": "stream",
     "text": [
      "<class 'pandas.core.frame.DataFrame'>\n",
      "RangeIndex: 948 entries, 0 to 947\n",
      "Data columns (total 14 columns):\n",
      "Unnamed: 0    948 non-null int64\n",
      "职位名称          948 non-null object\n",
      "职位名称关键字       948 non-null object\n",
      "职位薪资          928 non-null float64\n",
      "公司名称          948 non-null object\n",
      "地区            948 non-null object\n",
      "工作经验          946 non-null float64\n",
      "学历要求          948 non-null object\n",
      "职位描述要求        948 non-null object\n",
      "C             948 non-null float64\n",
      "Fpga          948 non-null float64\n",
      "Dsp           948 non-null float64\n",
      "Protel        948 non-null float64\n",
      "Eda           948 non-null float64\n",
      "dtypes: float64(7), int64(1), object(6)\n",
      "memory usage: 103.8+ KB\n"
     ]
    }
   ],
   "source": [
    "yingjian = pd.read_csv('yingjian.csv')\n",
    "yingjian.info()\n",
    "yingjian=yingjian.drop(['Unnamed: 0'], axis=1)"
   ]
  },
  {
   "cell_type": "code",
   "execution_count": 1100,
   "metadata": {},
   "outputs": [
    {
     "name": "stdout",
     "output_type": "stream",
     "text": [
      "<class 'pandas.core.frame.DataFrame'>\n",
      "RangeIndex: 943 entries, 0 to 942\n",
      "Data columns (total 17 columns):\n",
      "Unnamed: 0    943 non-null int64\n",
      "职位名称          943 non-null object\n",
      "职位名称关键字       943 non-null object\n",
      "职位薪资          932 non-null float64\n",
      "公司名称          943 non-null object\n",
      "地区            943 non-null object\n",
      "工作经验          938 non-null float64\n",
      "学历要求          943 non-null object\n",
      "职位描述要求        943 non-null object\n",
      "Linux         943 non-null float64\n",
      "Mysql         943 non-null float64\n",
      "Shell         943 non-null float64\n",
      "Python        943 non-null float64\n",
      "Sql           943 non-null float64\n",
      "Oracle        943 non-null float64\n",
      "Nginx         943 non-null float64\n",
      "Tomcat        943 non-null float64\n",
      "dtypes: float64(10), int64(1), object(6)\n",
      "memory usage: 125.3+ KB\n"
     ]
    }
   ],
   "source": [
    "yunwei = pd.read_csv('yunwei.csv')\n",
    "yunwei.info()\n",
    "yunwei=yunwei.drop(['Unnamed: 0'], axis=1)"
   ]
  },
  {
   "cell_type": "code",
   "execution_count": 1101,
   "metadata": {},
   "outputs": [
    {
     "data": {
      "text/plain": [
       "Index(['职位名称', '职位名称关键字', '职位薪资', '公司名称', '地区', '工作经验', '学历要求', '职位描述要求'], dtype='object')"
      ]
     },
     "execution_count": 1101,
     "metadata": {},
     "output_type": "execute_result"
    }
   ],
   "source": [
    "jobs.columns"
   ]
  },
  {
   "cell_type": "code",
   "execution_count": 1102,
   "metadata": {},
   "outputs": [
    {
     "data": {
      "text/html": [
       "<div>\n",
       "<style scoped>\n",
       "    .dataframe tbody tr th:only-of-type {\n",
       "        vertical-align: middle;\n",
       "    }\n",
       "\n",
       "    .dataframe tbody tr th {\n",
       "        vertical-align: top;\n",
       "    }\n",
       "\n",
       "    .dataframe thead th {\n",
       "        text-align: right;\n",
       "    }\n",
       "</style>\n",
       "<table border=\"1\" class=\"dataframe\">\n",
       "  <thead>\n",
       "    <tr style=\"text-align: right;\">\n",
       "      <th></th>\n",
       "      <th>职位薪资</th>\n",
       "    </tr>\n",
       "  </thead>\n",
       "  <tbody>\n",
       "    <tr>\n",
       "      <th>count</th>\n",
       "      <td>31704.000000</td>\n",
       "    </tr>\n",
       "    <tr>\n",
       "      <th>mean</th>\n",
       "      <td>13996.941752</td>\n",
       "    </tr>\n",
       "    <tr>\n",
       "      <th>std</th>\n",
       "      <td>9807.238279</td>\n",
       "    </tr>\n",
       "    <tr>\n",
       "      <th>min</th>\n",
       "      <td>1000.000000</td>\n",
       "    </tr>\n",
       "    <tr>\n",
       "      <th>25%</th>\n",
       "      <td>7000.000000</td>\n",
       "    </tr>\n",
       "    <tr>\n",
       "      <th>50%</th>\n",
       "      <td>11500.000000</td>\n",
       "    </tr>\n",
       "    <tr>\n",
       "      <th>75%</th>\n",
       "      <td>17500.000000</td>\n",
       "    </tr>\n",
       "    <tr>\n",
       "      <th>max</th>\n",
       "      <td>350000.000000</td>\n",
       "    </tr>\n",
       "  </tbody>\n",
       "</table>\n",
       "</div>"
      ],
      "text/plain": [
       "                职位薪资\n",
       "count   31704.000000\n",
       "mean    13996.941752\n",
       "std      9807.238279\n",
       "min      1000.000000\n",
       "25%      7000.000000\n",
       "50%     11500.000000\n",
       "75%     17500.000000\n",
       "max    350000.000000"
      ]
     },
     "execution_count": 1102,
     "metadata": {},
     "output_type": "execute_result"
    }
   ],
   "source": [
    "jobs.describe()"
   ]
  },
  {
   "cell_type": "markdown",
   "metadata": {},
   "source": [
    "删除表中含有任何NaN的行"
   ]
  },
  {
   "cell_type": "code",
   "execution_count": 1103,
   "metadata": {},
   "outputs": [
    {
     "name": "stdout",
     "output_type": "stream",
     "text": [
      "<class 'pandas.core.frame.DataFrame'>\n",
      "Int64Index: 22522 entries, 0 to 32190\n",
      "Data columns (total 8 columns):\n",
      "职位名称       22522 non-null object\n",
      "职位名称关键字    22522 non-null object\n",
      "职位薪资       22522 non-null float64\n",
      "公司名称       22522 non-null object\n",
      "地区         22522 non-null object\n",
      "工作经验       22522 non-null object\n",
      "学历要求       22522 non-null object\n",
      "职位描述要求     22522 non-null object\n",
      "dtypes: float64(1), object(7)\n",
      "memory usage: 1.5+ MB\n"
     ]
    }
   ],
   "source": [
    "jobs = jobs.dropna(axis=0,how='any')\n",
    "jobs.info()"
   ]
  },
  {
   "cell_type": "markdown",
   "metadata": {},
   "source": [
    "选取我们需要的特征"
   ]
  },
  {
   "cell_type": "code",
   "execution_count": 1104,
   "metadata": {},
   "outputs": [
    {
     "name": "stdout",
     "output_type": "stream",
     "text": [
      "   地区     职位薪资 工作经验 学历要求 职位名称关键字\n",
      "0  深圳  14000.0    3   大专    前端开发\n",
      "1  广州   9000.0    1   大专    前端开发\n"
     ]
    }
   ],
   "source": [
    "jobs = jobs[['地区','职位薪资','工作经验','学历要求','职位名称关键字']]\n",
    "print(jobs.head(2))"
   ]
  },
  {
   "cell_type": "raw",
   "metadata": {},
   "source": [
    "#城市字符串处理函数\n",
    "def get_area(area):\n",
    "    if '-' in area:\n",
    "        area = area.split('-')\n",
    "        return area[0]\n",
    "    else:\n",
    "        return area"
   ]
  },
  {
   "cell_type": "raw",
   "metadata": {},
   "source": [
    "jobs['地区'] = jobs['地区'].apply(get_area)"
   ]
  },
  {
   "cell_type": "code",
   "execution_count": 1105,
   "metadata": {},
   "outputs": [
    {
     "name": "stdout",
     "output_type": "stream",
     "text": [
      "   地区     职位薪资 工作经验 学历要求 职位名称关键字\n",
      "0  深圳  14000.0    3   大专    前端开发\n",
      "1  广州   9000.0    1   大专    前端开发\n"
     ]
    }
   ],
   "source": [
    "print(jobs.head(2))"
   ]
  },
  {
   "cell_type": "code",
   "execution_count": 1106,
   "metadata": {},
   "outputs": [],
   "source": [
    "#jobs['工作经验'] = jobs['工作经验'].astype(int)"
   ]
  },
  {
   "cell_type": "raw",
   "metadata": {},
   "source": [
    "# 经验字符串处理函数           \n",
    "def get_exp(exp):\n",
    "    if '-' in exp:\n",
    "        exp = exp.split('-')\n",
    "        return exp[0] \n",
    "    elif exp=='无工作经验':\n",
    "        return 0\n",
    "    else:\n",
    "        return exp[0]\n"
   ]
  },
  {
   "cell_type": "code",
   "execution_count": 1107,
   "metadata": {},
   "outputs": [],
   "source": [
    "#jobs['工作经验'] = jobs['工作经验'].apply(get_exp)"
   ]
  },
  {
   "cell_type": "code",
   "execution_count": 1108,
   "metadata": {},
   "outputs": [
    {
     "name": "stdout",
     "output_type": "stream",
     "text": [
      "   地区     职位薪资 工作经验 学历要求 职位名称关键字\n",
      "0  深圳  14000.0    3   大专    前端开发\n",
      "1  广州   9000.0    1   大专    前端开发\n"
     ]
    }
   ],
   "source": [
    "print(jobs.head(2))"
   ]
  },
  {
   "cell_type": "raw",
   "metadata": {},
   "source": [
    " #工资字符串处理函数\n",
    "def get_wage(wage):\n",
    "    if wage.endswith('千/月'):\n",
    "        wage = wage.replace('千/月','')\n",
    "        wage = wage.split('-')\n",
    "        wage = '%.2f'%((float(wage[0])+float(wage[1]))*1000/2)\n",
    "        return wage\n",
    "    elif wage.endswith('万/月'):\n",
    "        wage = wage.replace('万/月','')\n",
    "        wage = wage.split('-')\n",
    "        wage = '%.2f'%((float(wage[0])+float(wage[1]))*10000/2)\n",
    "        return wage\n",
    "    elif wage.endswith('万/年'):\n",
    "        wage = wage.replace('万/年','')\n",
    "        wage = wage.split('-')\n",
    "        wage = '%.2f'%((float(wage[0])+float(wage[1]))*10000/(2*12))\n",
    "        return wage"
   ]
  },
  {
   "cell_type": "code",
   "execution_count": 1109,
   "metadata": {},
   "outputs": [],
   "source": [
    "#jobs['工资'] = jobs['工资'].apply(get_wage)"
   ]
  },
  {
   "cell_type": "code",
   "execution_count": 1110,
   "metadata": {},
   "outputs": [
    {
     "name": "stdout",
     "output_type": "stream",
     "text": [
      "   地区     职位薪资 工作经验 学历要求 职位名称关键字\n",
      "0  深圳  14000.0    3   大专    前端开发\n",
      "1  广州   9000.0    1   大专    前端开发\n"
     ]
    }
   ],
   "source": [
    "print(jobs.head(2))"
   ]
  },
  {
   "cell_type": "code",
   "execution_count": 1111,
   "metadata": {},
   "outputs": [
    {
     "data": {
      "text/plain": [
       "本科       12214\n",
       "大专        7705\n",
       "硕士        1197\n",
       "中专         438\n",
       "高中         335\n",
       "学历不限       186\n",
       "初中及以下      184\n",
       "中技         112\n",
       "博士         100\n",
       "中专/中技       50\n",
       "无            1\n",
       "Name: 学历要求, dtype: int64"
      ]
     },
     "execution_count": 1111,
     "metadata": {},
     "output_type": "execute_result"
    }
   ],
   "source": [
    "jobs['学历要求'].value_counts()"
   ]
  },
  {
   "cell_type": "code",
   "execution_count": 1112,
   "metadata": {},
   "outputs": [
    {
     "data": {
      "text/html": [
       "<div>\n",
       "<style scoped>\n",
       "    .dataframe tbody tr th:only-of-type {\n",
       "        vertical-align: middle;\n",
       "    }\n",
       "\n",
       "    .dataframe tbody tr th {\n",
       "        vertical-align: top;\n",
       "    }\n",
       "\n",
       "    .dataframe thead th {\n",
       "        text-align: right;\n",
       "    }\n",
       "</style>\n",
       "<table border=\"1\" class=\"dataframe\">\n",
       "  <thead>\n",
       "    <tr style=\"text-align: right;\">\n",
       "      <th></th>\n",
       "      <th>地区</th>\n",
       "      <th>职位薪资</th>\n",
       "      <th>工作经验</th>\n",
       "      <th>学历要求</th>\n",
       "      <th>职位名称关键字</th>\n",
       "    </tr>\n",
       "  </thead>\n",
       "  <tbody>\n",
       "    <tr>\n",
       "      <th>0</th>\n",
       "      <td>深圳</td>\n",
       "      <td>14000.0</td>\n",
       "      <td>3</td>\n",
       "      <td>大专</td>\n",
       "      <td>前端开发</td>\n",
       "    </tr>\n",
       "    <tr>\n",
       "      <th>1</th>\n",
       "      <td>广州</td>\n",
       "      <td>9000.0</td>\n",
       "      <td>1</td>\n",
       "      <td>大专</td>\n",
       "      <td>前端开发</td>\n",
       "    </tr>\n",
       "    <tr>\n",
       "      <th>2</th>\n",
       "      <td>厦门</td>\n",
       "      <td>20000.0</td>\n",
       "      <td>5</td>\n",
       "      <td>大专</td>\n",
       "      <td>前端开发</td>\n",
       "    </tr>\n",
       "    <tr>\n",
       "      <th>3</th>\n",
       "      <td>惠州</td>\n",
       "      <td>12500.0</td>\n",
       "      <td>0</td>\n",
       "      <td>大专</td>\n",
       "      <td>前端开发</td>\n",
       "    </tr>\n",
       "    <tr>\n",
       "      <th>4</th>\n",
       "      <td>长沙</td>\n",
       "      <td>9500.0</td>\n",
       "      <td>2</td>\n",
       "      <td>大专</td>\n",
       "      <td>前端开发</td>\n",
       "    </tr>\n",
       "  </tbody>\n",
       "</table>\n",
       "</div>"
      ],
      "text/plain": [
       "   地区     职位薪资 工作经验 学历要求 职位名称关键字\n",
       "0  深圳  14000.0    3   大专    前端开发\n",
       "1  广州   9000.0    1   大专    前端开发\n",
       "2  厦门  20000.0    5   大专    前端开发\n",
       "3  惠州  12500.0    0   大专    前端开发\n",
       "4  长沙   9500.0    2   大专    前端开发"
      ]
     },
     "execution_count": 1112,
     "metadata": {},
     "output_type": "execute_result"
    }
   ],
   "source": [
    "jobs = jobs[jobs['学历要求'].isin(['硕士','本科','大专','高中','中专','初中及以下'])]\n",
    "jobs.reset_index(drop=True,inplace=True)  #重新恢复索引\n",
    "jobs.head()"
   ]
  },
  {
   "cell_type": "code",
   "execution_count": 1113,
   "metadata": {},
   "outputs": [
    {
     "name": "stdout",
     "output_type": "stream",
     "text": [
      "<class 'pandas.core.frame.DataFrame'>\n",
      "RangeIndex: 22073 entries, 0 to 22072\n",
      "Data columns (total 5 columns):\n",
      "地区         22073 non-null object\n",
      "职位薪资       22073 non-null float64\n",
      "工作经验       22073 non-null object\n",
      "学历要求       22073 non-null object\n",
      "职位名称关键字    22073 non-null object\n",
      "dtypes: float64(1), object(4)\n",
      "memory usage: 862.3+ KB\n"
     ]
    }
   ],
   "source": [
    "jobs.info()"
   ]
  },
  {
   "cell_type": "markdown",
   "metadata": {},
   "source": [
    "用图表对数据进行进一步的分析"
   ]
  },
  {
   "cell_type": "raw",
   "metadata": {},
   "source": [
    "city_count = jobs.groupby(['地区'])['地区'].count()\n",
    "#df_train.groupby(\"hour\").sum()['count'].sort_index().plot()\n",
    "\n",
    "#city_count5 = city_count.sort('city_count.values', ascending=False)\n",
    "city_count5 = city_count .sort_values(ascending = False).head(5)\n",
    "\n",
    "ax = plt.figure(figsize=(10, 8)).add_subplot(111)\n",
    "sns.barplot(city_count5.index, city_count5.values, alpha=0.8)\n",
    "ax.set_ylim([0, 400])\n",
    "ax.set_xlabel('城市', fontsize=20)\n",
    "ax.set_ylabel('职位数量', fontsize=20)\n",
    "ax.set_title('不同城市Python岗位的需求量', size=24)\n",
    "for x, y in zip(range(5), city_count.values):\n",
    "    ax.text(x, y, '%d'%y, ha='center', va='bottom', fontsize=16, color='b')\n",
    "plt.show()\n"
   ]
  },
  {
   "cell_type": "raw",
   "metadata": {},
   "source": [
    "从上图可以看出，一线城市，Python岗位的需求最多，就业机会大，不过人才比较集中，也意味着竞争压力也较大。"
   ]
  },
  {
   "cell_type": "code",
   "execution_count": 1114,
   "metadata": {},
   "outputs": [
    {
     "data": {
      "text/plain": [
       "<matplotlib.axes._subplots.AxesSubplot at 0x2cbfdb58978>"
      ]
     },
     "execution_count": 1114,
     "metadata": {},
     "output_type": "execute_result"
    },
    {
     "data": {
      "image/png": "[encoded data removed]",
      "text/plain": [
       "<matplotlib.figure.Figure at 0x2cb807f0c50>"
      ]
     },
     "metadata": {},
     "output_type": "display_data"
    }
   ],
   "source": [
    "#工资分布情况\n",
    "jobs.groupby(['职位薪资'])['职位薪资'].count().plot()"
   ]
  },
  {
   "cell_type": "code",
   "execution_count": 1115,
   "metadata": {},
   "outputs": [
    {
     "data": {
      "image/png": "[encoded data removed]",
      "text/plain": [
       "<matplotlib.figure.Figure at 0x2cbfb9e25f8>"
      ]
     },
     "metadata": {},
     "output_type": "display_data"
    }
   ],
   "source": [
    "group_by_city = jobs.groupby(['地区'])['职位薪资']\n",
    "df_city = []\n",
    "for group in city_count5.index:\n",
    "    v = group_by_city.get_group(group).values\n",
    "    df_city.append(v)\n",
    "ax3 = plt.figure(figsize=(8, 6)).add_subplot(111)\n",
    "sns.boxplot(data=df_city)\n",
    "ax3.set_xticklabels(city_count5.index, fontsize=10)\n",
    "ax3.set_title('前5个城市工资比较', fontsize=22)\n",
    "ax3.set_ylabel('工资（元/月）', fontsize=20)\n",
    "plt.show()\n"
   ]
  },
  {
   "cell_type": "markdown",
   "metadata": {},
   "source": [
    "从图上可以看出北京的工资最高，其次是上海，杭州，深圳，广州。"
   ]
  },
  {
   "cell_type": "raw",
   "metadata": {},
   "source": [
    "exp_count = jobs.groupby(['工作经验'])['工作经验'].count()\n",
    "ax4 = plt.figure(figsize=(10, 8)).add_subplot(111)\n",
    "sns.barplot(exp_count.index, exp_count.values, alpha=0.8)\n",
    "ax4.set_ylim([0, 150])\n",
    "ax4.set_xlabel('经验要求', fontsize=20)\n",
    "ax4.set_ylabel('数量', fontsize=20)\n",
    "ax4.set_title('经验要求分布', size=24)\n",
    "for x, y in zip(range(5), exp_count.values):\n",
    "    ax4.text(x, y, '%d'%y, ha='center', va='bottom', fontsize=16, color='b')\n",
    "plt.show()\n"
   ]
  },
  {
   "cell_type": "markdown",
   "metadata": {},
   "source": [
    "2-3年经验的需求比较大，主要集中在这两个年限。从这个情况看，虽然该岗位需求大，但是不能盲目转行，毕竟对经验要求比较大。\n",
    "从长远看，5年以上经验的需求还是比较少的，10年以上近乎无，可以看出5年这个点是比较关键的，职业规划需要在前几年做好，尽快提升自己。"
   ]
  },
  {
   "cell_type": "raw",
   "metadata": {},
   "source": [
    "xueli_count = jobs.groupby(['学历要求'])['学历要求'].count()\n",
    "ax5 = plt.figure(figsize=(10, 8)).add_subplot(111)\n",
    "sns.barplot(xueli_count.index, xueli_count.values, alpha=0.8)\n",
    "ax5.set_ylim([0, 300])\n",
    "ax5.set_xlabel('学历', fontsize=20)\n",
    "ax5.set_ylabel('数量', fontsize=20)\n",
    "ax5.set_title('学历分布', size=24)\n",
    "for x, y in zip(range(5), xueli_count.values):\n",
    "    ax5.text(x, y, '%d'%y, ha='center', va='bottom', fontsize=16, color='b')\n",
    "plt.show()\n"
   ]
  },
  {
   "cell_type": "raw",
   "metadata": {},
   "source": [
    "Python对本科生的需求最大，其次是大专，其他学历需求很少，对于博士需求基本没有。"
   ]
  },
  {
   "cell_type": "raw",
   "metadata": {},
   "source": [
    "sns.boxplot(jobs['经验要求'].astype(int),jobs['工资'].astype(float))\n",
    "plt.xlabel('经验要求')\n",
    "plt.ylabel('工资')\n",
    "plt.title('工作经验与薪酬相关情况',size=24)\n",
    "plt.show()\n"
   ]
  },
  {
   "cell_type": "raw",
   "metadata": {},
   "source": [
    " sns.boxplot(jobs['学历'],jobs['工资'].astype(float))\n",
    " plt.xlabel('学历')\n",
    " plt.ylabel('工资')\n",
    " plt.title('学历与薪酬相关情况',size=24)\n",
    " plt.show()\n"
   ]
  },
  {
   "cell_type": "markdown",
   "metadata": {},
   "source": [
    "从以上两图可以看出随着工作经验的增加，相应的工资也会随着增加。随着学历的上升，相应的工资也会随着增加。这些均符合我们的常识判断。"
   ]
  },
  {
   "cell_type": "raw",
   "metadata": {},
   "source": [
    "总结:\n",
    "1、Python就业机会主要集中在一线城市，如上海、深圳、北京等城市；\n",
    "2、Python岗位的薪资主要集中在5k-18k，中间有几个小分水岭，薪资有较大的发展空间，且一线城市中北京的工资最高，其次是上海，杭州，深圳，广州。\n",
    "3、Python岗位的经验要求集中在2-3年，该岗位对经验方面比较看重，且工作经验和工资呈正相关。值得注意的是从长远看，5年以上经验的需求还是比较少的。\n",
    "4、Python在学历方面对本科生的需求最大，其次是大专，其他学历需求很少，对于博士需求基本没有，在此基础上学历和工资呈正相关。\n"
   ]
  },
  {
   "cell_type": "code",
   "execution_count": 1116,
   "metadata": {},
   "outputs": [],
   "source": [
    "AI.columns\n",
    "corr_matrix = AI.corr()\n",
    "corr_matrix[\"职位薪资\"].sort_values(ascending=False)\n",
    "corr_matrix[\"职位薪资\"].sort_values(ascending=False).to_csv('AI.txt')"
   ]
  },
  {
   "cell_type": "code",
   "execution_count": 1117,
   "metadata": {},
   "outputs": [],
   "source": [
    "ceshi.columns\n",
    "corr_matrix = ceshi.corr()\n",
    "corr_matrix[\"职位薪资\"].sort_values(ascending=False)\n",
    "corr_matrix[\"职位薪资\"].sort_values(ascending=False).to_csv('ceshi.txt')"
   ]
  },
  {
   "cell_type": "code",
   "execution_count": 1118,
   "metadata": {},
   "outputs": [],
   "source": [
    "dianzi.columns\n",
    "corr_matrix = dianzi.corr()\n",
    "corr_matrix[\"职位薪资\"].sort_values(ascending=False)\n",
    "corr_matrix[\"职位薪资\"].sort_values(ascending=False).to_csv('dianzi.txt')"
   ]
  },
  {
   "cell_type": "code",
   "execution_count": 1119,
   "metadata": {},
   "outputs": [],
   "source": [
    "houduan.columns\n",
    "corr_matrix = houduan.corr()\n",
    "corr_matrix[\"职位薪资\"].sort_values(ascending=False)\n",
    "corr_matrix[\"职位薪资\"].sort_values(ascending=False).to_csv('houduan.txt')"
   ]
  },
  {
   "cell_type": "code",
   "execution_count": 1120,
   "metadata": {},
   "outputs": [],
   "source": [
    "qianduan.columns\n",
    "corr_matrix = qianduan.corr()\n",
    "corr_matrix[\"职位薪资\"].sort_values(ascending=False)\n",
    "corr_matrix[\"职位薪资\"].sort_values(ascending=False).to_csv('qianduan.txt')"
   ]
  },
  {
   "cell_type": "code",
   "execution_count": 1121,
   "metadata": {},
   "outputs": [],
   "source": [
    "shuju.columns\n",
    "corr_matrix = shuju.corr()\n",
    "corr_matrix[\"职位薪资\"].sort_values(ascending=False)\n",
    "corr_matrix[\"职位薪资\"].sort_values(ascending=False).to_csv('shuju.txt')"
   ]
  },
  {
   "cell_type": "code",
   "execution_count": 1122,
   "metadata": {},
   "outputs": [],
   "source": [
    "suanfa.columns\n",
    "corr_matrix = suanfa.corr()\n",
    "corr_matrix[\"职位薪资\"].sort_values(ascending=False)\n",
    "corr_matrix[\"职位薪资\"].sort_values(ascending=False).to_csv('suanfa.txt')"
   ]
  },
  {
   "cell_type": "code",
   "execution_count": 1123,
   "metadata": {},
   "outputs": [],
   "source": [
    "tongxin.columns\n",
    "corr_matrix = tongxin.corr()\n",
    "corr_matrix[\"职位薪资\"].sort_values(ascending=False)\n",
    "corr_matrix[\"职位薪资\"].sort_values(ascending=False).to_csv('tongxin.txt')"
   ]
  },
  {
   "cell_type": "code",
   "execution_count": 1124,
   "metadata": {},
   "outputs": [],
   "source": [
    "xiangmu.columns\n",
    "corr_matrix = xiangmu.corr()\n",
    "corr_matrix[\"职位薪资\"].sort_values(ascending=False)\n",
    "corr_matrix[\"职位薪资\"].sort_values(ascending=False).to_csv('xiangmu.txt')"
   ]
  },
  {
   "cell_type": "code",
   "execution_count": 1125,
   "metadata": {},
   "outputs": [],
   "source": [
    "yidong.columns\n",
    "corr_matrix = yidong.corr()\n",
    "corr_matrix[\"职位薪资\"].sort_values(ascending=False)\n",
    "corr_matrix[\"职位薪资\"].sort_values(ascending=False).to_csv('yidong.txt')"
   ]
  },
  {
   "cell_type": "code",
   "execution_count": 1126,
   "metadata": {},
   "outputs": [],
   "source": [
    "yingjian.columns\n",
    "corr_matrix = yingjian.corr()\n",
    "corr_matrix[\"职位薪资\"].sort_values(ascending=False)\n",
    "corr_matrix[\"职位薪资\"].sort_values(ascending=False).to_csv('yingjian.txt')"
   ]
  },
  {
   "cell_type": "code",
   "execution_count": 1127,
   "metadata": {},
   "outputs": [],
   "source": [
    "yunwei.columns\n",
    "corr_matrix = yunwei.corr()\n",
    "corr_matrix[\"职位薪资\"].sort_values(ascending=False)\n",
    "corr_matrix[\"职位薪资\"].sort_values(ascending=False).to_csv('yunwei.txt')"
   ]
  },
  {
   "cell_type": "markdown",
   "metadata": {},
   "source": [
    "将各字符分类变量重编码为数值分类变量"
   ]
  },
  {
   "cell_type": "code",
   "execution_count": 1128,
   "metadata": {},
   "outputs": [],
   "source": [
    "from sklearn.preprocessing import LabelEncoder as LE\n",
    "from sklearn.linear_model import LinearRegression as LR"
   ]
  },
  {
   "cell_type": "raw",
   "metadata": {},
   "source": [
    "#jobs = jobs.drop(jobs[jobs['地区'].str.contains('省')].index)\n",
    "#jobs[\"地区\"] = jobs[\"地区\"].str.split('-').apply(pd.Series)[0]\n",
    "other_city = []\n",
    "cnt = 0\n",
    "for key,value in jobs[\"地区\"].value_counts().items():\n",
    "     print(key, value)\n",
    "     if value < 500:\n",
    "        other_city.append(key)\n",
    "for i in range(len(other_city)):\n",
    "    jobs[\"地区\"].loc[jobs[\"地区\"].str.contains(other_city[i])] = '其他'"
   ]
  },
  {
   "cell_type": "code",
   "execution_count": 1129,
   "metadata": {},
   "outputs": [],
   "source": [
    "le = LE()   \n",
    "jobs['地区'] = le.fit_transform(jobs['地区'].values)#城市重编码\n",
    "jobs['学历要求']=jobs['学历要求'].replace('初中及以下',0)  \n",
    "jobs['学历要求']=jobs['学历要求'].replace('中专',1)           #学历重编码 \n",
    "jobs['学历要求']=jobs['学历要求'].replace('高中',2)\n",
    "jobs['学历要求']=jobs['学历要求'].replace('大专',3)\n",
    "jobs['学历要求']=jobs['学历要求'].replace('本科',4)\n",
    "jobs['学历要求']=jobs['学历要求'].replace('硕士',5)\n",
    "jobs['职位名称关键字']=jobs['职位名称关键字'].replace('前端开发',0)#职位重编码\n",
    "jobs['职位名称关键字']=jobs['职位名称关键字'].replace('后端开发',1)\n",
    "jobs['职位名称关键字']=jobs['职位名称关键字'].replace('移动开发',2)\n",
    "jobs['职位名称关键字']=jobs['职位名称关键字'].replace('数据',3)\n",
    "jobs['职位名称关键字']=jobs['职位名称关键字'].replace('测试',4)\n",
    "jobs['职位名称关键字']=jobs['职位名称关键字'].replace('算法',5)\n",
    "jobs['职位名称关键字']=jobs['职位名称关键字'].replace('运维/技术支持',6)\n",
    "jobs['职位名称关键字']=jobs['职位名称关键字'].replace('硬件开发',7)\n",
    "jobs['职位名称关键字']=jobs['职位名称关键字'].replace('通信',8)\n",
    "jobs['职位名称关键字']=jobs['职位名称关键字'].replace('电子/半导体',9)\n",
    "jobs['职位名称关键字']=jobs['职位名称关键字'].replace('项目管理',10)\n",
    "jobs['职位名称关键字']=jobs['职位名称关键字'].replace('人工智能',11)\n",
    "jobs['职位名称关键字']=jobs['职位名称关键字'].replace('信息安全',12)"
   ]
  },
  {
   "cell_type": "code",
   "execution_count": 1130,
   "metadata": {},
   "outputs": [
    {
     "data": {
      "text/plain": [
       "Index(['地区', '职位薪资', '工作经验', '学历要求', '职位名称关键字'], dtype='object')"
      ]
     },
     "execution_count": 1130,
     "metadata": {},
     "output_type": "execute_result"
    }
   ],
   "source": [
    "jobs.columns"
   ]
  },
  {
   "cell_type": "code",
   "execution_count": 1131,
   "metadata": {
    "scrolled": true
   },
   "outputs": [
    {
     "data": {
      "text/html": [
       "<div>\n",
       "<style scoped>\n",
       "    .dataframe tbody tr th:only-of-type {\n",
       "        vertical-align: middle;\n",
       "    }\n",
       "\n",
       "    .dataframe tbody tr th {\n",
       "        vertical-align: top;\n",
       "    }\n",
       "\n",
       "    .dataframe thead th {\n",
       "        text-align: right;\n",
       "    }\n",
       "</style>\n",
       "<table border=\"1\" class=\"dataframe\">\n",
       "  <thead>\n",
       "    <tr style=\"text-align: right;\">\n",
       "      <th></th>\n",
       "      <th>地区</th>\n",
       "      <th>职位薪资</th>\n",
       "      <th>工作经验</th>\n",
       "      <th>学历要求</th>\n",
       "      <th>职位名称关键字</th>\n",
       "    </tr>\n",
       "  </thead>\n",
       "  <tbody>\n",
       "  </tbody>\n",
       "</table>\n",
       "</div>"
      ],
      "text/plain": [
       "Empty DataFrame\n",
       "Columns: [地区, 职位薪资, 工作经验, 学历要求, 职位名称关键字]\n",
       "Index: []"
      ]
     },
     "execution_count": 1131,
     "metadata": {},
     "output_type": "execute_result"
    }
   ],
   "source": [
    "jobs[jobs['职位薪资'].isnull()]"
   ]
  },
  {
   "cell_type": "code",
   "execution_count": 1132,
   "metadata": {},
   "outputs": [],
   "source": [
    "jobs.dropna(inplace=True)"
   ]
  },
  {
   "cell_type": "code",
   "execution_count": 1133,
   "metadata": {},
   "outputs": [
    {
     "data": {
      "text/plain": [
       "(22073, 3)"
      ]
     },
     "execution_count": 1133,
     "metadata": {},
     "output_type": "execute_result"
    }
   ],
   "source": [
    "#特征选择\n",
    "X = jobs[['工作经验','学历要求','职位名称关键字']]\n",
    "X.shape"
   ]
  },
  {
   "cell_type": "code",
   "execution_count": 1134,
   "metadata": {},
   "outputs": [],
   "source": [
    "#结果集\n",
    "y = jobs['职位薪资']"
   ]
  },
  {
   "cell_type": "code",
   "execution_count": 1135,
   "metadata": {},
   "outputs": [],
   "source": [
    "from sklearn import linear_model"
   ]
  },
  {
   "cell_type": "code",
   "execution_count": 1136,
   "metadata": {},
   "outputs": [
    {
     "data": {
      "text/plain": [
       "LinearRegression(copy_X=True, fit_intercept=True, n_jobs=None, normalize=False)"
      ]
     },
     "execution_count": 1136,
     "metadata": {},
     "output_type": "execute_result"
    }
   ],
   "source": [
    "## 模型学习\n",
    "model = LR()\n",
    "model.fit(X,y)"
   ]
  },
  {
   "cell_type": "code",
   "execution_count": 1137,
   "metadata": {},
   "outputs": [],
   "source": [
    "from sklearn.model_selection import train_test_split\n",
    "X_train,X_test,y_train,y_test = train_test_split(X,y,test_size=0.2, random_state=42)"
   ]
  },
  {
   "cell_type": "code",
   "execution_count": 1138,
   "metadata": {},
   "outputs": [
    {
     "data": {
      "text/plain": [
       "LinearRegression(copy_X=True, fit_intercept=True, n_jobs=None, normalize=False)"
      ]
     },
     "execution_count": 1138,
     "metadata": {},
     "output_type": "execute_result"
    }
   ],
   "source": [
    "from sklearn.linear_model import LinearRegression\n",
    "lin_reg = LinearRegression()\n",
    "lin_reg.fit(X_train,y_train)"
   ]
  },
  {
   "cell_type": "code",
   "execution_count": 1139,
   "metadata": {},
   "outputs": [
    {
     "data": {
      "text/plain": [
       "7532.378326469051"
      ]
     },
     "execution_count": 1139,
     "metadata": {},
     "output_type": "execute_result"
    }
   ],
   "source": [
    "from sklearn.metrics import mean_squared_error\n",
    "import numpy as np\n",
    "salary_predictions = lin_reg.predict(X_test)\n",
    "lin_mse = mean_squared_error(y_test, salary_predictions)\n",
    "lin_rmse = np.sqrt(lin_mse)\n",
    "lin_rmse"
   ]
  },
  {
   "cell_type": "code",
   "execution_count": 1151,
   "metadata": {},
   "outputs": [
    {
     "name": "stdout",
     "output_type": "stream",
     "text": [
      "7141.05\n"
     ]
    }
   ],
   "source": [
    "#构建预测函数\n",
    "def wage_pred(job,exp,xueli):\n",
    "    job_index =  list(('前端开发','后端开发','移动开发','数据','测试','算法','运维/技术支持','硬件开发','通信','电子/半导体','项目管理','人工智能')).index(job)\n",
    "    #area_index = list(le.classes_).index(area)\n",
    "    xueli_index = list(('初中及以下','中专','高中','大专','本科','硕士')).index(xueli)\n",
    "    wage_pred = model.predict([[job_index ,exp,xueli_index]])\n",
    "    print('%.2f'%wage_pred)\n",
    "    \n",
    "## 测试代码\n",
    "if __name__ == '__main__':\n",
    "\t#wage_pred('北京',2,'本科')\n",
    "    wage_pred('移动开发',2,'本科')"
   ]
  },
  {
   "cell_type": "markdown",
   "metadata": {},
   "source": [
    "保存模型"
   ]
  },
  {
   "cell_type": "code",
   "execution_count": 1141,
   "metadata": {},
   "outputs": [],
   "source": [
    "from sklearn.externals import joblib"
   ]
  },
  {
   "cell_type": "code",
   "execution_count": 1142,
   "metadata": {},
   "outputs": [
    {
     "data": {
      "text/plain": [
       "['预测薪资.pkl']"
      ]
     },
     "execution_count": 1142,
     "metadata": {},
     "output_type": "execute_result"
    }
   ],
   "source": [
    "joblib.dump(model, \"预测薪资.pkl\")"
   ]
  },
  {
   "cell_type": "code",
   "execution_count": 1143,
   "metadata": {},
   "outputs": [],
   "source": [
    "clf = joblib.load(\"预测薪资.pkl\")"
   ]
  }
 ],
 "metadata": {
  "kernelspec": {
   "display_name": "Python 3",
   "language": "python",
   "name": "python3"
  },
  "language_info": {
   "codemirror_mode": {
    "name": "ipython",
    "version": 3
   },
   "file_extension": ".py",
   "mimetype": "text/x-python",
   "name": "python",
   "nbconvert_exporter": "python",
   "pygments_lexer": "ipython3",
   "version": "3.7.1"
  },
  "toc": {
   "base_numbering": 1,
   "nav_menu": {},
   "number_sections": true,
   "sideBar": true,
   "skip_h1_title": false,
   "title_cell": "Table of Contents",
   "title_sidebar": "Contents",
   "toc_cell": false,
   "toc_position": {},
   "toc_section_display": true,
   "toc_window_display": false
  }
 },
 "nbformat": 4,
 "nbformat_minor": 2
}
